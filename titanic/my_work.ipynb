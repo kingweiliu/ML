{
 "cells": [
  {
   "cell_type": "markdown",
   "metadata": {},
   "source": [
    "#  加载数据\n",
    "把测试的数据分割成两部分，这样保证所有的算法在对比的时候是处于一个水平的"
   ]
  },
  {
   "cell_type": "code",
   "execution_count": 1,
   "metadata": {
    "collapsed": false
   },
   "outputs": [
    {
     "name": "stderr",
     "output_type": "stream",
     "text": [
      "C:\\Users\\ljw\\Anaconda3\\lib\\site-packages\\numpy\\lib\\function_base.py:4116: RuntimeWarning: Invalid value encountered in percentile\n",
      "  interpolation=interpolation)\n"
     ]
    },
    {
     "data": {
      "text/html": [
       "<div>\n",
       "<table border=\"1\" class=\"dataframe\">\n",
       "  <thead>\n",
       "    <tr style=\"text-align: right;\">\n",
       "      <th></th>\n",
       "      <th>PassengerId</th>\n",
       "      <th>Survived</th>\n",
       "      <th>Pclass</th>\n",
       "      <th>Age</th>\n",
       "      <th>SibSp</th>\n",
       "      <th>Parch</th>\n",
       "      <th>Fare</th>\n",
       "    </tr>\n",
       "  </thead>\n",
       "  <tbody>\n",
       "    <tr>\n",
       "      <th>count</th>\n",
       "      <td>700.000000</td>\n",
       "      <td>700.000000</td>\n",
       "      <td>700.000000</td>\n",
       "      <td>561.000000</td>\n",
       "      <td>700.000000</td>\n",
       "      <td>700.000000</td>\n",
       "      <td>700.000000</td>\n",
       "    </tr>\n",
       "    <tr>\n",
       "      <th>mean</th>\n",
       "      <td>452.717143</td>\n",
       "      <td>0.375714</td>\n",
       "      <td>2.317143</td>\n",
       "      <td>29.515758</td>\n",
       "      <td>0.531429</td>\n",
       "      <td>0.401429</td>\n",
       "      <td>30.791731</td>\n",
       "    </tr>\n",
       "    <tr>\n",
       "      <th>std</th>\n",
       "      <td>257.433014</td>\n",
       "      <td>0.484653</td>\n",
       "      <td>0.836912</td>\n",
       "      <td>14.415910</td>\n",
       "      <td>1.146188</td>\n",
       "      <td>0.830566</td>\n",
       "      <td>41.078193</td>\n",
       "    </tr>\n",
       "    <tr>\n",
       "      <th>min</th>\n",
       "      <td>2.000000</td>\n",
       "      <td>0.000000</td>\n",
       "      <td>1.000000</td>\n",
       "      <td>0.420000</td>\n",
       "      <td>0.000000</td>\n",
       "      <td>0.000000</td>\n",
       "      <td>0.000000</td>\n",
       "    </tr>\n",
       "    <tr>\n",
       "      <th>25%</th>\n",
       "      <td>227.750000</td>\n",
       "      <td>0.000000</td>\n",
       "      <td>2.000000</td>\n",
       "      <td>NaN</td>\n",
       "      <td>0.000000</td>\n",
       "      <td>0.000000</td>\n",
       "      <td>7.895800</td>\n",
       "    </tr>\n",
       "    <tr>\n",
       "      <th>50%</th>\n",
       "      <td>458.500000</td>\n",
       "      <td>0.000000</td>\n",
       "      <td>3.000000</td>\n",
       "      <td>NaN</td>\n",
       "      <td>0.000000</td>\n",
       "      <td>0.000000</td>\n",
       "      <td>14.456250</td>\n",
       "    </tr>\n",
       "    <tr>\n",
       "      <th>75%</th>\n",
       "      <td>676.250000</td>\n",
       "      <td>1.000000</td>\n",
       "      <td>3.000000</td>\n",
       "      <td>NaN</td>\n",
       "      <td>1.000000</td>\n",
       "      <td>0.000000</td>\n",
       "      <td>31.275000</td>\n",
       "    </tr>\n",
       "    <tr>\n",
       "      <th>max</th>\n",
       "      <td>891.000000</td>\n",
       "      <td>1.000000</td>\n",
       "      <td>3.000000</td>\n",
       "      <td>74.000000</td>\n",
       "      <td>8.000000</td>\n",
       "      <td>6.000000</td>\n",
       "      <td>263.000000</td>\n",
       "    </tr>\n",
       "  </tbody>\n",
       "</table>\n",
       "</div>"
      ],
      "text/plain": [
       "       PassengerId    Survived      Pclass         Age       SibSp  \\\n",
       "count   700.000000  700.000000  700.000000  561.000000  700.000000   \n",
       "mean    452.717143    0.375714    2.317143   29.515758    0.531429   \n",
       "std     257.433014    0.484653    0.836912   14.415910    1.146188   \n",
       "min       2.000000    0.000000    1.000000    0.420000    0.000000   \n",
       "25%     227.750000    0.000000    2.000000         NaN    0.000000   \n",
       "50%     458.500000    0.000000    3.000000         NaN    0.000000   \n",
       "75%     676.250000    1.000000    3.000000         NaN    1.000000   \n",
       "max     891.000000    1.000000    3.000000   74.000000    8.000000   \n",
       "\n",
       "            Parch        Fare  \n",
       "count  700.000000  700.000000  \n",
       "mean     0.401429   30.791731  \n",
       "std      0.830566   41.078193  \n",
       "min      0.000000    0.000000  \n",
       "25%      0.000000    7.895800  \n",
       "50%      0.000000   14.456250  \n",
       "75%      0.000000   31.275000  \n",
       "max      6.000000  263.000000  "
      ]
     },
     "execution_count": 1,
     "metadata": {},
     "output_type": "execute_result"
    }
   ],
   "source": [
    "import pandas as pd\n",
    "\n",
    "df_train = pd.read_csv(\"train_train.csv\")\n",
    "df_test = pd.read_csv(\"train_test.csv\")\n",
    "df_train.describe()"
   ]
  },
  {
   "cell_type": "code",
   "execution_count": 3,
   "metadata": {
    "collapsed": false
   },
   "outputs": [
    {
     "name": "stdout",
     "output_type": "stream",
     "text": [
      "<class 'pandas.core.frame.DataFrame'>\n",
      "RangeIndex: 700 entries, 0 to 699\n",
      "Data columns (total 12 columns):\n",
      "PassengerId    700 non-null int64\n",
      "Survived       700 non-null int64\n",
      "Pclass         700 non-null int64\n",
      "Name           700 non-null object\n",
      "Sex            700 non-null object\n",
      "Age            561 non-null float64\n",
      "SibSp          700 non-null int64\n",
      "Parch          700 non-null int64\n",
      "Ticket         700 non-null object\n",
      "Fare           700 non-null float64\n",
      "Cabin          162 non-null object\n",
      "Embarked       699 non-null object\n",
      "dtypes: float64(2), int64(5), object(5)\n",
      "memory usage: 65.7+ KB\n"
     ]
    }
   ],
   "source": [
    "df_train.info()"
   ]
  },
  {
   "cell_type": "markdown",
   "metadata": {},
   "source": [
    "# 特征提取"
   ]
  },
  {
   "cell_type": "markdown",
   "metadata": {},
   "source": [
    "在使用时发现pandas自带的get_dummies不是很好用(比如测试数据的值域范围和训练不一致，导致预测时特征维数和训练时不一致；当然也可能是我没有用好)， 我自己定义了几个函数如下:"
   ]
  },
  {
   "cell_type": "code",
   "execution_count": 2,
   "metadata": {
    "collapsed": true
   },
   "outputs": [],
   "source": [
    "def feature_one_code(dtfm, column, all_values):    \n",
    "    for ev  in all_values:\n",
    "        dtfm[column + \"_\" + str(ev)] = dtfm[column].apply(lambda x : int(x == ev))\n",
    "\n",
    "def feature_range_code(dtfm , column, start, end, gap):\n",
    "    prev = -1\n",
    "    for v in range(start, end, gap):\n",
    "        dtfm[column + \"_\" + str(v)] =  \\\n",
    "            dtfm[column].apply(lambda x : int(x > prev and x < v))\n",
    "        prev = v"
   ]
  },
  {
   "cell_type": "markdown",
   "metadata": {},
   "source": [
    "主要做特征工程，模型上选择 lr和决策树来看效果。"
   ]
  },
  {
   "cell_type": "code",
   "execution_count": 3,
   "metadata": {
    "collapsed": true
   },
   "outputs": [],
   "source": [
    "\n",
    "def evaluate(train_feature, test_feature, train_target, test_target):\n",
    "    from sklearn.linear_model import LogisticRegression\n",
    "    lr = LogisticRegression(verbose=10)\n",
    "    lr.fit(train_feature, train_target)\n",
    "    print(\"lr score\", lr.score(test_feature, test_target))\n",
    "    \n",
    "    \n",
    "    print(\"-----\")\n",
    "    from sklearn.tree import DecisionTreeClassifier\n",
    "    \n",
    "    dtc = DecisionTreeClassifier()\n",
    "    dtc.fit(train_feature, train_target)\n",
    "    print(\"decision tree:\", dtc.score(test_feature, test_target))"
   ]
  },
  {
   "cell_type": "markdown",
   "metadata": {},
   "source": [
    "## 取两维特征"
   ]
  },
  {
   "cell_type": "code",
   "execution_count": 9,
   "metadata": {
    "collapsed": false
   },
   "outputs": [
    {
     "name": "stdout",
     "output_type": "stream",
     "text": [
      "[LibLinear]lr score 0.79057591623\n",
      "-----\n",
      "decision tree: 0.780104712042\n"
     ]
    }
   ],
   "source": [
    "def extract_features_2(dtfm):\n",
    "    dtfm_ret = dtfm.drop([\"PassengerId\", \"Name\", \"Cabin\", \"Ticket\"], axis = 1)  \n",
    "    feature_one_code(dtfm_ret, \"Sex\", [\"male\", \"female\"])\n",
    "    feature_range_code(dtfm_ret, \"Age\", 10, 90, 10)       \n",
    "    dtfm_ret.drop([\"SibSp\",\"Parch\",\"Fare\" ,\"Embarked\", \"Pclass\",\"Age\",\"Sex\"], axis = 1, inplace=True)\n",
    "    return  dtfm_ret\n",
    "\n",
    "train_feature = extract_features_2(df_train)\n",
    "test_feature = extract_features_2(df_test)\n",
    "train_target = train_feature.Survived\n",
    "train_feature.drop([\"Survived\"], axis = 1, inplace = True)\n",
    "\n",
    "test_target = test_feature.Survived\n",
    "test_feature.drop([\"Survived\"], axis = 1, inplace = True)\n",
    "\n",
    "evaluate(train_feature, test_feature, train_target, test_target)"
   ]
  },
  {
   "cell_type": "markdown",
   "metadata": {
    "collapsed": true
   },
   "source": [
    "# 取三维特征\n",
    "## sex, age, Pclass"
   ]
  },
  {
   "cell_type": "code",
   "execution_count": 6,
   "metadata": {
    "collapsed": false
   },
   "outputs": [
    {
     "name": "stdout",
     "output_type": "stream",
     "text": [
      "[LibLinear]lr score 0.801047120419\n",
      "-----\n",
      "decision tree: 0.748691099476\n"
     ]
    }
   ],
   "source": [
    "def extract_features_3(dtfm):\n",
    "    dtfm_ret = dtfm.drop([\"PassengerId\", \"Name\", \"Cabin\", \"Ticket\"], axis = 1)\n",
    "    \n",
    "    feature_one_code(dtfm_ret, \"Sex\", [\"male\", \"female\"])\n",
    "    feature_range_code(dtfm_ret, \"Age\", 10, 90, 10)      \n",
    "    feature_one_code(dtfm_ret, \"Pclass\", [2, 3, 1])\n",
    "    dtfm_ret.drop([\"SibSp\",\"Parch\",\"Fare\" ,\"Embarked\", \"Pclass\",\"Age\",\"Sex\"], axis = 1, inplace=True)\n",
    "    return  dtfm_ret\n",
    "\n",
    "train_feature = extract_features_3(df_train)\n",
    "test_feature = extract_features_3(df_test)\n",
    "train_target = train_feature.Survived\n",
    "train_feature.drop([\"Survived\"], axis = 1, inplace = True)\n",
    "\n",
    "test_target = test_feature.Survived\n",
    "test_feature.drop([\"Survived\"], axis = 1, inplace = True)\n",
    "\n",
    "evaluate(train_feature, test_feature, train_target, test_target)"
   ]
  },
  {
   "cell_type": "markdown",
   "metadata": {},
   "source": [
    "# 取四维特征\n",
    "## sex, age, Pclass， Embarked"
   ]
  },
  {
   "cell_type": "code",
   "execution_count": 5,
   "metadata": {
    "collapsed": false
   },
   "outputs": [
    {
     "name": "stdout",
     "output_type": "stream",
     "text": [
      "[LibLinear]lr score 0.821989528796\n",
      "-----\n",
      "decision tree: 0.79057591623\n"
     ]
    }
   ],
   "source": [
    "def extract_features_4(dtfm):\n",
    "    \n",
    "    dtfm_ret = dtfm.drop([\"PassengerId\", \"Name\", \"Cabin\", \"Ticket\"], axis = 1)\n",
    "    \n",
    "    feature_one_code(dtfm_ret, \"Sex\", [\"male\", \"female\"])\n",
    "    feature_range_code(dtfm_ret, \"Age\", 10, 90, 10)      \n",
    "    feature_one_code(dtfm_ret, \"Pclass\", [2, 3, 1])\n",
    "    feature_one_code(dtfm_ret, \"Embarked\", [\"S\",\"C\", \"Q\"])\n",
    "    dtfm_ret.drop([\"SibSp\",\"Parch\",\"Fare\" ,\"Embarked\", \"Pclass\",\"Age\",\"Sex\"], axis = 1, inplace=True)\n",
    "    return  dtfm_ret\n",
    "\n",
    "train_feature = extract_features_4(df_train)\n",
    "test_feature = extract_features_4(df_test)\n",
    "train_target = train_feature.Survived\n",
    "train_feature.drop([\"Survived\"], axis = 1, inplace = True)\n",
    "\n",
    "test_target = test_feature.Survived\n",
    "test_feature.drop([\"Survived\"], axis = 1, inplace = True)\n",
    "\n",
    "evaluate(train_feature, test_feature, train_target, test_target)"
   ]
  },
  {
   "cell_type": "markdown",
   "metadata": {
    "collapsed": true
   },
   "source": [
    "# 取五维特征\n",
    "## sex, age, Pclass， Embarked， Parch"
   ]
  },
  {
   "cell_type": "code",
   "execution_count": 7,
   "metadata": {
    "collapsed": false
   },
   "outputs": [
    {
     "name": "stdout",
     "output_type": "stream",
     "text": [
      "[LibLinear]lr score 0.806282722513\n",
      "-----\n",
      "decision tree: 0.753926701571\n"
     ]
    }
   ],
   "source": [
    "def extract_features_5(dtfm):\n",
    "    dtfm_ret = dtfm.drop([\"PassengerId\", \"Name\", \"Cabin\", \"Ticket\"], axis = 1)\n",
    "    \n",
    "    feature_one_code(dtfm_ret, \"Sex\", [\"male\", \"female\"])\n",
    "    feature_range_code(dtfm_ret, \"Age\", 10, 90, 10)      \n",
    "    feature_one_code(dtfm_ret, \"Pclass\", [2, 3, 1])\n",
    "    feature_one_code(dtfm_ret, \"Embarked\", [\"S\",\"C\", \"Q\"])\n",
    "    feature_one_code(dtfm_ret, \"Parch\", [0, 1, 2, 6, 4, 3, 5])\n",
    "\n",
    "    dtfm_ret.drop([\"SibSp\",\"Parch\",\"Fare\" ,\"Embarked\", \"Pclass\",\"Age\",\"Sex\"], axis = 1, inplace=True)\n",
    "    return dtfm_ret\n",
    "\n",
    "train_feature = extract_features_5(df_train)\n",
    "test_feature = extract_features_5(df_test)\n",
    "train_target = train_feature.Survived\n",
    "train_feature.drop([\"Survived\"], axis = 1, inplace = True)\n",
    "\n",
    "test_target = test_feature.Survived\n",
    "test_feature.drop([\"Survived\"], axis = 1, inplace = True)\n",
    "\n",
    "evaluate(train_feature, test_feature, train_target, test_target)"
   ]
  },
  {
   "cell_type": "markdown",
   "metadata": {},
   "source": [
    "# 取六维特征\n",
    "## sex, age, Pclass， Embarked， Parch，SibSp"
   ]
  },
  {
   "cell_type": "code",
   "execution_count": 8,
   "metadata": {
    "collapsed": false
   },
   "outputs": [
    {
     "name": "stdout",
     "output_type": "stream",
     "text": [
      "[LibLinear]lr score 0.806282722513\n",
      "-----\n",
      "decision tree: 0.79057591623\n"
     ]
    }
   ],
   "source": [
    "def extract_features_6(dtfm):\n",
    "    dtfm_ret = dtfm.drop([\"PassengerId\", \"Name\", \"Cabin\", \"Ticket\"], axis = 1)\n",
    "    \n",
    "    feature_one_code(dtfm_ret, \"Sex\", [\"male\", \"female\"])\n",
    "    feature_range_code(dtfm_ret, \"Age\", 10, 90, 10)      \n",
    "    feature_one_code(dtfm_ret, \"Pclass\", [2, 3, 1])\n",
    "    feature_one_code(dtfm_ret, \"Embarked\", [\"S\",\"C\", \"Q\"])\n",
    "    feature_one_code(dtfm_ret, \"Parch\", [0, 1, 2, 6, 4, 3, 5])\n",
    "    feature_one_code(dtfm_ret, \"SibSp\", [0, 2, 1, 3, 8, 4, 5])\n",
    "\n",
    "    dtfm_ret.drop([\"SibSp\",\"Parch\",\"Fare\" ,\"Embarked\", \"Pclass\",\"Age\",\"Sex\"], axis = 1, inplace=True)\n",
    "    return dtfm_ret\n",
    "\n",
    "train_feature = extract_features_6(df_train)\n",
    "test_feature = extract_features_6(df_test)\n",
    "train_target = train_feature.Survived\n",
    "train_feature.drop([\"Survived\"], axis = 1, inplace = True)\n",
    "\n",
    "test_target = test_feature.Survived\n",
    "test_feature.drop([\"Survived\"], axis = 1, inplace = True)\n",
    "\n",
    "evaluate(train_feature, test_feature, train_target, test_target)"
   ]
  },
  {
   "cell_type": "code",
   "execution_count": null,
   "metadata": {
    "collapsed": true
   },
   "outputs": [],
   "source": []
  }
 ],
 "metadata": {
  "anaconda-cloud": {},
  "kernelspec": {
   "display_name": "Python [default]",
   "language": "python",
   "name": "python3"
  },
  "language_info": {
   "codemirror_mode": {
    "name": "ipython",
    "version": 3
   },
   "file_extension": ".py",
   "mimetype": "text/x-python",
   "name": "python",
   "nbconvert_exporter": "python",
   "pygments_lexer": "ipython3",
   "version": "3.5.2"
  }
 },
 "nbformat": 4,
 "nbformat_minor": 1
}
